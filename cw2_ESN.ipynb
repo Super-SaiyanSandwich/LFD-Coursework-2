{
 "cells": [
  {
   "cell_type": "markdown",
   "metadata": {},
   "source": [
    "# Learning from data 2018 - Project 2"
   ]
  },
  {
   "cell_type": "markdown",
   "metadata": {},
   "source": [
    "## Instructions"
   ]
  },
  {
   "cell_type": "markdown",
   "metadata": {},
   "source": [
    "| Date set     | Hand-in date |\n",
    "|------------------|-----------------------------------|\n",
    "|13th November 2018  | **12:00 3rd December 2018** |\n",
    "\n"
   ]
  },
  {
   "cell_type": "markdown",
   "metadata": {},
   "source": [
    "Candidate number: ** Put your candidate number here **  "
   ]
  },
  {
   "cell_type": "markdown",
   "metadata": {
    "collapsed": true
   },
   "source": [
    "Your report should consist of your Jupyter notebook showing what you did (including technical descriptions of the implemented algorithms), what was the result and what you can conclude from the experiments. Each report will be\n",
    "assessed on the following criteria:\n",
    "\n",
    "* Does it record what was done including the details of the implemented algorithms?\n",
    "* Does it permit the results to be reproduced?\n",
    "* How does the work relate to the theoretical foundations discussed in lectures?\n",
    "* Is it well presented?\n",
    "\n",
    "Use markdown to explain what you are doing (including equations, if any), what the results mean, how they relate to the theory, etc.\n",
    "\n",
    "You can add new cells as you think fit and delete ones that are not needed (do not delete this preamble). \n",
    "\n",
    "### Submitting the notebooks\n",
    "\n",
    "Only an electronic submissions is required.  Submit your notebook (the .ipynb file) to electronic copy via the  [electronic hand-in system](http://empslocal.ex.ac.uk/submit/) using the topic:\n",
    "- <cmd>2018-12-03~ECM3420~Lorenzo Livi~cw2</cmd>\n",
    "- <cmd>2018-12-03~ECMM445~Lorenzo Livi~cw2</cmd>\n",
    "\n",
    "You should be able to upload the notebook directly from wherever it is on your machine.  If you're not sure where it is, type <code>pwd</code> (print working directory) in a cell to find out.  To keep the marking anonymous, please don't leave directory names that reveal your identity in cells."
   ]
  },
  {
   "cell_type": "markdown",
   "metadata": {},
   "source": [
    "<div class=\"alert alert-warning\">\n",
    "Although you will undoubtedly work collaboratively in the workshops themselves, these are *individual* exercises.  The reports you write should be about the results *you* obtained, and your attention is drawn to the College and University guidelines on collaboration and plagiarism. "
   ]
  },
  {
   "cell_type": "markdown",
   "metadata": {},
   "source": [
    "## Project specification\n",
    "\n",
    "The project consists of two parts, each one worth 5% of the total 10% associated with this assessed workshop.\n",
    "\n",
    "- **First part of the project**\n",
    "\n",
    "Implement a standard echo state network (ESN) model. Do not include feedback from the output and do not include leaking neurons. Implement training of the read-out by solving a standard regularized least-square problem. Perform some preliminary simulations by considering a _k_ step ahead forecasting task (evaluate several values of *k* as forecasting horizon) on the \"2sine\" time series and describe the experimental results.\n",
    "    \n",
    "- **Second part of the project**\n",
    "\n",
    "Implement a version of the ESN model that is trained online by means of the least-mean-square algorithm. Perform simulations to compare the performance on a k step ahead forecasting task with respect to the standard ESN implementation (first part of the project). In the experiments, take into account multiple _k_ values for the forecasting horizon (i.e., explore the effects of increasing *k* on the performance) and process the \"2sine\" and \"lorenz\" time series provided in the archive."
   ]
  },
  {
   "cell_type": "markdown",
   "metadata": {},
   "source": [
    "## Your project starts from here!"
   ]
  },
  {
   "cell_type": "code",
   "execution_count": 1,
   "metadata": {},
   "outputs": [],
   "source": [
    "# make sure plots are displayed correctly on notebooks\n",
    "%matplotlib inline"
   ]
  },
  {
   "cell_type": "markdown",
   "metadata": {},
   "source": [
    "### Part 1 of the project..."
   ]
  },
  {
   "cell_type": "code",
   "execution_count": 2,
   "metadata": {},
   "outputs": [],
   "source": [
    "# add how many cells you like here..."
   ]
  },
  {
   "cell_type": "markdown",
   "metadata": {},
   "source": [
    "### Part 2 of the project..."
   ]
  },
  {
   "cell_type": "code",
   "execution_count": null,
   "metadata": {},
   "outputs": [],
   "source": [
    "# add how many cells you like here..."
   ]
  }
 ],
 "metadata": {
  "anaconda-cloud": {},
  "kernelspec": {
   "display_name": "Python 3",
   "language": "python",
   "name": "python3"
  },
  "language_info": {
   "codemirror_mode": {
    "name": "ipython",
    "version": 3
   },
   "file_extension": ".py",
   "mimetype": "text/x-python",
   "name": "python",
   "nbconvert_exporter": "python",
   "pygments_lexer": "ipython3",
   "version": "3.6.6"
  }
 },
 "nbformat": 4,
 "nbformat_minor": 1
}
